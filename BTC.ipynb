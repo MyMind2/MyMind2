{
 "cells": [
  {
   "cell_type": "markdown",
   "metadata": {},
   "source": [
    "# NN model for predicting cryptocurrency's price"
   ]
  },
  {
   "cell_type": "code",
   "execution_count": 2,
   "metadata": {
    "id": "yeXCnYul9Se3"
   },
   "outputs": [],
   "source": [
    "import numpy as np\n",
    "import matplotlib.pyplot as plt\n",
    "import pandas as pd\n",
    "import pandas_datareader as web\n",
    "import datetime as dt\n",
    "\n",
    "from sklearn.preprocessing import MinMaxScaler\n",
    "from tensorflow.keras.layers import Dense, Dropout, LSTM\n",
    "from tensorflow.keras.models import Sequential"
   ]
  },
  {
   "cell_type": "code",
   "execution_count": 3,
   "metadata": {},
   "outputs": [],
   "source": [
    "crypto_currency = 'BTC'\n",
    "against_currency = 'USD'\n",
    "\n",
    "start = dt.datetime(2016, 1, 1)\n",
    "end = dt.datetime.now()\n",
    "\n",
    "data = web.DataReader(f'{crypto_currency}-{against_currency}', 'yahoo', start, end)"
   ]
  },
  {
   "cell_type": "code",
   "execution_count": 4,
   "metadata": {},
   "outputs": [],
   "source": [
    "scaler = MinMaxScaler(feature_range=(0,1))\n",
    "scaled_data = scaler.fit_transform(data['Close'].values.reshape(-1,1))"
   ]
  },
  {
   "cell_type": "code",
   "execution_count": 5,
   "metadata": {},
   "outputs": [],
   "source": [
    "prediction_days = 60\n",
    "future_days = 30"
   ]
  },
  {
   "cell_type": "code",
   "execution_count": 6,
   "metadata": {},
   "outputs": [],
   "source": [
    "x_train, y_train = [], []\n",
    "\n",
    "for x in range(prediction_days, len(scaled_data)-future_days):\n",
    "    x_train.append(scaled_data[x-prediction_days:x, 0])\n",
    "    y_train.append(scaled_data[x:x+future_days, 0])"
   ]
  },
  {
   "cell_type": "code",
   "execution_count": 7,
   "metadata": {},
   "outputs": [],
   "source": [
    "x_train, y_train = np.array(x_train), np.array(y_train)"
   ]
  },
  {
   "cell_type": "code",
   "execution_count": 8,
   "metadata": {},
   "outputs": [],
   "source": [
    "x_train = np.reshape(x_train, (x_train.shape[0], x_train.shape[1], 1))\n",
    "y_train = np.reshape(y_train, (y_train.shape[0], y_train.shape[1], 1))"
   ]
  },
  {
   "cell_type": "code",
   "execution_count": 22,
   "metadata": {
    "scrolled": false
   },
   "outputs": [
    {
     "name": "stdout",
     "output_type": "stream",
     "text": [
      "loading model has been unsuccesful, you can start training model (in .py it will start automaticly)\n",
      "Epoch 1/25\n",
      "69/69 [==============================] - 36s 344ms/step - loss: 0.0259\n",
      "Epoch 2/25\n",
      "69/69 [==============================] - 25s 355ms/step - loss: 0.0100\n",
      "Epoch 3/25\n",
      "69/69 [==============================] - 26s 377ms/step - loss: 0.0086\n",
      "Epoch 4/25\n",
      "69/69 [==============================] - 26s 372ms/step - loss: 0.0065\n",
      "Epoch 5/25\n",
      "69/69 [==============================] - 26s 372ms/step - loss: 0.0063\n",
      "Epoch 6/25\n",
      "69/69 [==============================] - 26s 372ms/step - loss: 0.0056\n",
      "Epoch 7/25\n",
      "69/69 [==============================] - 26s 376ms/step - loss: 0.0049\n",
      "Epoch 8/25\n",
      "69/69 [==============================] - 26s 370ms/step - loss: 0.0050\n",
      "Epoch 9/25\n",
      "69/69 [==============================] - 26s 371ms/step - loss: 0.0045\n",
      "Epoch 10/25\n",
      "69/69 [==============================] - 27s 392ms/step - loss: 0.0045\n",
      "Epoch 11/25\n",
      "69/69 [==============================] - 26s 372ms/step - loss: 0.0043\n",
      "Epoch 12/25\n",
      "69/69 [==============================] - 26s 370ms/step - loss: 0.0041\n",
      "Epoch 13/25\n",
      "69/69 [==============================] - 27s 397ms/step - loss: 0.0040\n",
      "Epoch 14/25\n",
      "69/69 [==============================] - 26s 378ms/step - loss: 0.0037\n",
      "Epoch 15/25\n",
      "69/69 [==============================] - 26s 375ms/step - loss: 0.0034\n",
      "Epoch 16/25\n",
      "69/69 [==============================] - 26s 374ms/step - loss: 0.0035\n",
      "Epoch 17/25\n",
      "69/69 [==============================] - 26s 373ms/step - loss: 0.0041\n",
      "Epoch 18/25\n",
      "69/69 [==============================] - 26s 373ms/step - loss: 0.0034\n",
      "Epoch 19/25\n",
      "69/69 [==============================] - 27s 391ms/step - loss: 0.0032\n",
      "Epoch 20/25\n",
      "69/69 [==============================] - 25s 367ms/step - loss: 0.0032\n",
      "Epoch 21/25\n",
      "69/69 [==============================] - 26s 372ms/step - loss: 0.0031\n",
      "Epoch 22/25\n",
      "69/69 [==============================] - 26s 373ms/step - loss: 0.0033\n",
      "Epoch 23/25\n",
      "69/69 [==============================] - 26s 372ms/step - loss: 0.0041\n",
      "Epoch 24/25\n",
      "69/69 [==============================] - 26s 371ms/step - loss: 0.0041\n",
      "Epoch 25/25\n",
      "69/69 [==============================] - 26s 370ms/step - loss: 0.0031\n"
     ]
    },
    {
     "name": "stderr",
     "output_type": "stream",
     "text": [
      "WARNING:absl:Found untraced functions such as lstm_cell_3_layer_call_fn, lstm_cell_3_layer_call_and_return_conditional_losses, lstm_cell_4_layer_call_fn, lstm_cell_4_layer_call_and_return_conditional_losses, lstm_cell_5_layer_call_fn while saving (showing 5 of 12). These functions will not be directly callable after loading.\n"
     ]
    },
    {
     "name": "stdout",
     "output_type": "stream",
     "text": [
      "INFO:tensorflow:Assets written to: ./modelsave/model1\\assets\n"
     ]
    },
    {
     "name": "stderr",
     "output_type": "stream",
     "text": [
      "INFO:tensorflow:Assets written to: ./modelsave/model1\\assets\n",
      "WARNING:absl:<keras.layers.recurrent.LSTMCell object at 0x0000021E1DB14F40> has the same name 'LSTMCell' as a built-in Keras object. Consider renaming <class 'keras.layers.recurrent.LSTMCell'> to avoid naming conflicts when loading with `tf.keras.models.load_model`. If renaming is not possible, pass the object in the `custom_objects` parameter of the load function.\n",
      "WARNING:absl:<keras.layers.recurrent.LSTMCell object at 0x0000021E1DB54460> has the same name 'LSTMCell' as a built-in Keras object. Consider renaming <class 'keras.layers.recurrent.LSTMCell'> to avoid naming conflicts when loading with `tf.keras.models.load_model`. If renaming is not possible, pass the object in the `custom_objects` parameter of the load function.\n",
      "WARNING:absl:<keras.layers.recurrent.LSTMCell object at 0x0000021E1FCEF910> has the same name 'LSTMCell' as a built-in Keras object. Consider renaming <class 'keras.layers.recurrent.LSTMCell'> to avoid naming conflicts when loading with `tf.keras.models.load_model`. If renaming is not possible, pass the object in the `custom_objects` parameter of the load function.\n",
      "WARNING:absl:<keras.layers.recurrent.LSTMCell object at 0x0000021E1FD22EF0> has the same name 'LSTMCell' as a built-in Keras object. Consider renaming <class 'keras.layers.recurrent.LSTMCell'> to avoid naming conflicts when loading with `tf.keras.models.load_model`. If renaming is not possible, pass the object in the `custom_objects` parameter of the load function.\n",
      "WARNING:absl:<keras.layers.recurrent.LSTMCell object at 0x0000021E1FDB2590> has the same name 'LSTMCell' as a built-in Keras object. Consider renaming <class 'keras.layers.recurrent.LSTMCell'> to avoid naming conflicts when loading with `tf.keras.models.load_model`. If renaming is not possible, pass the object in the `custom_objects` parameter of the load function.\n",
      "WARNING:absl:<keras.layers.recurrent.LSTMCell object at 0x0000021E1FE659F0> has the same name 'LSTMCell' as a built-in Keras object. Consider renaming <class 'keras.layers.recurrent.LSTMCell'> to avoid naming conflicts when loading with `tf.keras.models.load_model`. If renaming is not possible, pass the object in the `custom_objects` parameter of the load function.\n"
     ]
    }
   ],
   "source": [
    "try:    \n",
    "    from tensorflow import keras\n",
    "    model = keras.models.load_model('./modelsave/model1/')\n",
    "except:\n",
    "    print('loading model has been unsuccesful, you can start training model (in .py it will start automaticly)')\n",
    "    model = Sequential()\n",
    "\n",
    "    model.add(LSTM(units=50, return_sequences=True, input_shape=(x_train.shape[1], 1)))\n",
    "    model.add(Dropout(0.2))\n",
    "    model.add(LSTM(units=200, return_sequences=True))\n",
    "    model.add(Dropout(0.2))\n",
    "    model.add(LSTM(units=150, return_sequences=True))\n",
    "    model.add(Dropout(0.2))\n",
    "    model.add(LSTM(units=100, return_sequences=True))\n",
    "    model.add(Dropout(0.2))\n",
    "    model.add(LSTM(units=50, return_sequences=True))\n",
    "    model.add(Dropout(0.2))\n",
    "    model.add(LSTM(units=50))\n",
    "    model.add(Dropout(0.2))\n",
    "    model.add(Dense(units=future_days))\n",
    "\n",
    "    model.compile(optimizer='adam', loss='mean_squared_error')\n",
    "    model.fit(x_train, y_train, epochs=25, batch_size=32)\n",
    "\n",
    "    model.save('./modelsave/model1')"
   ]
  },
  {
   "cell_type": "markdown",
   "metadata": {},
   "source": [
    "# testing"
   ]
  },
  {
   "cell_type": "code",
   "execution_count": 23,
   "metadata": {},
   "outputs": [],
   "source": [
    "test_start = dt.datetime(2020,1,1)\n",
    "test_end = dt.datetime.now()\n",
    "\n",
    "test_data = web.DataReader(f'{crypto_currency}-{against_currency}', 'yahoo', test_start, test_end)\n",
    "\n",
    "np_test_data = np.array(test_data['Close'].values.reshape(-1,1))\n",
    "scaled_test_data = scaler.fit_transform(test_data['Close'].values.reshape(-1,1))"
   ]
  },
  {
   "cell_type": "code",
   "execution_count": 24,
   "metadata": {},
   "outputs": [],
   "source": [
    "x_test, y_test = [], []\n",
    "\n",
    "for x in range(prediction_days, len(scaled_test_data)-future_days):\n",
    "    x_test.append(scaled_test_data[x-prediction_days:x, 0])\n",
    "    y_test.append(np_test_data[x-future_days:x, 0])"
   ]
  },
  {
   "cell_type": "code",
   "execution_count": 25,
   "metadata": {
    "scrolled": true
   },
   "outputs": [],
   "source": [
    "x_test, y_test = np.array(x_test), np.array(y_test)"
   ]
  },
  {
   "cell_type": "code",
   "execution_count": 26,
   "metadata": {
    "scrolled": true
   },
   "outputs": [],
   "source": [
    "x_test = np.reshape(x_test, (x_test.shape[0], x_test.shape[1], 1))"
   ]
  },
  {
   "cell_type": "code",
   "execution_count": 27,
   "metadata": {},
   "outputs": [],
   "source": [
    "prediction = model.predict(x_test)\n",
    "prediction_price = scaler.inverse_transform(prediction)\n",
    "\n",
    "score = abs(prediction_price-y_test)"
   ]
  },
  {
   "cell_type": "code",
   "execution_count": 28,
   "metadata": {},
   "outputs": [
    {
     "data": {
      "image/png": "[encoded data removed]",
      "text/plain": [
       "<Figure size 432x288 with 1 Axes>"
      ]
     },
     "metadata": {
      "needs_background": "light"
     },
     "output_type": "display_data"
    }
   ],
   "source": [
    "n_day = 250\n",
    "plt.plot(prediction_price[n_day],label='predicted')\n",
    "plt.plot(y_test[n_day], label='real')\n",
    "plt.title('from testing position: '+str(n_day))\n",
    "plt.legend()\n",
    "plt.show()"
   ]
  },
  {
   "cell_type": "code",
   "execution_count": 29,
   "metadata": {},
   "outputs": [
    {
     "name": "stdout",
     "output_type": "stream",
     "text": [
      "Spearmans correlation: 0.585\n"
     ]
    },
    {
     "data": {
      "image/png": "[encoded data removed]",
      "text/plain": [
       "<Figure size 432x288 with 1 Axes>"
      ]
     },
     "metadata": {
      "needs_background": "light"
     },
     "output_type": "display_data"
    }
   ],
   "source": [
    "plt.scatter(prediction_price[n_day], y_test[n_day])\n",
    "from scipy.stats import spearmanr\n",
    "corr, _ = spearmanr(prediction_price[n_day], y_test[n_day])\n",
    "print('Spearmans correlation: %.3f' % corr)"
   ]
  },
  {
   "cell_type": "code",
   "execution_count": 30,
   "metadata": {},
   "outputs": [],
   "source": [
    "correlation = []\n",
    "for i in range(prediction_price.shape[0]):\n",
    "    corr, _ = spearmanr(prediction_price[i], y_test[i])\n",
    "    correlation.append(corr)"
   ]
  },
  {
   "cell_type": "code",
   "execution_count": 31,
   "metadata": {},
   "outputs": [
    {
     "data": {
      "text/plain": [
       "[<matplotlib.lines.Line2D at 0x21e3e905c90>]"
      ]
     },
     "execution_count": 31,
     "metadata": {},
     "output_type": "execute_result"
    },
    {
     "data": {
      "image/png": "[encoded data removed]",
      "text/plain": [
       "<Figure size 432x288 with 1 Axes>"
      ]
     },
     "metadata": {
      "needs_background": "light"
     },
     "output_type": "display_data"
    }
   ],
   "source": [
    "plt.plot(correlation)"
   ]
  },
  {
   "cell_type": "code",
   "execution_count": 32,
   "metadata": {},
   "outputs": [
    {
     "data": {
      "text/plain": [
       "0.11073197407423518"
      ]
     },
     "execution_count": 32,
     "metadata": {},
     "output_type": "execute_result"
    }
   ],
   "source": [
    "np.mean(correlation)"
   ]
  },
  {
   "cell_type": "code",
   "execution_count": 33,
   "metadata": {},
   "outputs": [
    {
     "data": {
      "text/plain": [
       "(array([20., 52., 75., 84., 86., 96., 79., 59., 78., 87.]),\n",
       " array([-0.89944383, -0.71515017, -0.53085651, -0.34656285, -0.16226919,\n",
       "         0.02202447,  0.20631813,  0.39061179,  0.57490545,  0.75919911,\n",
       "         0.94349277]),\n",
       " <BarContainer object of 10 artists>)"
      ]
     },
     "execution_count": 33,
     "metadata": {},
     "output_type": "execute_result"
    },
    {
     "data": {
      "image/png": "[encoded data removed]",
      "text/plain": [
       "<Figure size 432x288 with 1 Axes>"
      ]
     },
     "metadata": {
      "needs_background": "light"
     },
     "output_type": "display_data"
    }
   ],
   "source": [
    "plt.hist(correlation)"
   ]
  },
  {
   "cell_type": "code",
   "execution_count": null,
   "metadata": {},
   "outputs": [],
   "source": []
  },
  {
   "cell_type": "code",
   "execution_count": null,
   "metadata": {},
   "outputs": [],
   "source": []
  }
 ],
 "metadata": {
  "colab": {
   "authorship_tag": "ABX9TyMmAUD3C+jo6r+aoWHuvEyU",
   "include_colab_link": true,
   "name": "Untitled2.ipynb",
   "provenance": []
  },
  "kernelspec": {
   "display_name": "Python 3 (ipykernel)",
   "language": "python",
   "name": "python3"
  },
  "language_info": {
   "codemirror_mode": {
    "name": "ipython",
    "version": 3
   },
   "file_extension": ".py",
   "mimetype": "text/x-python",
   "name": "python",
   "nbconvert_exporter": "python",
   "pygments_lexer": "ipython3",
   "version": "3.10.2"
  }
 },
 "nbformat": 4,
 "nbformat_minor": 1
}
