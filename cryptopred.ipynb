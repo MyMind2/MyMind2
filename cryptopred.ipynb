{
 "cells": [
  {
   "cell_type": "code",
   "execution_count": 2,
   "id": "102dbd85",
   "metadata": {},
   "outputs": [],
   "source": [
    "import numpy as np\n",
    "import matplotlib.pyplot as plt\n",
    "import pandas as pd\n",
    "import pandas_datareader as web\n",
    "import datetime as dt\n",
    "\n",
    "from sklearn.preprocessing import MinMaxScaler\n",
    "from tensorflow.keras.layers import Dense, Dropout, LSTM\n",
    "from tensorflow.keras.models import Sequential"
   ]
  },
  {
   "cell_type": "code",
   "execution_count": 3,
   "id": "1d0089f7",
   "metadata": {},
   "outputs": [],
   "source": [
    "prediction_days = 60\n",
    "future_days = 30"
   ]
  },
  {
   "cell_type": "code",
   "execution_count": 6,
   "id": "3f1a9300",
   "metadata": {},
   "outputs": [],
   "source": [
    "x_train, y_train = [], []\n",
    "\n",
    "pred_crypto_currencies = ['ETH', 'LTC', 'DOGE', 'BNB', 'USDT', 'USDC', 'SAND', 'UST']\n",
    "against_currency = 'USD'\n",
    "\n",
    "start = dt.datetime(2016, 1, 1)\n",
    "end = dt.datetime.now()\n",
    "\n",
    "scaler = MinMaxScaler(feature_range=(0,1))\n",
    "\n",
    "for currency in pred_crypto_currencies:\n",
    "    data = web.DataReader(f'{currency}-{against_currency}', 'yahoo', start, end)\n",
    "    scaled_data = scaler.fit_transform(data['Close'].values.reshape(-1,1))\n",
    "    for x in range(prediction_days, len(scaled_data)-future_days):\n",
    "        x_train.append(scaled_data[x-prediction_days:x, 0])\n",
    "        y_train.append(scaled_data[x:x+future_days, 0])"
   ]
  },
  {
   "cell_type": "code",
   "execution_count": 7,
   "id": "e942428b",
   "metadata": {},
   "outputs": [],
   "source": [
    "x_train, y_train = np.array(x_train), np.array(y_train)"
   ]
  },
  {
   "cell_type": "code",
   "execution_count": 8,
   "id": "0b4509a8",
   "metadata": {},
   "outputs": [],
   "source": [
    "x_train = np.reshape(x_train, (x_train.shape[0], x_train.shape[1], 1))\n",
    "y_train = np.reshape(y_train, (y_train.shape[0], y_train.shape[1], 1))"
   ]
  },
  {
   "cell_type": "code",
   "execution_count": 16,
   "id": "36aebd83",
   "metadata": {
    "scrolled": true
   },
   "outputs": [
    {
     "name": "stdout",
     "output_type": "stream",
     "text": [
      "loading model has been unsuccesful, training model will start automaticly)\n",
      "Epoch 1/25\n",
      "320/320 [==============================] - 35s 84ms/step - loss: 0.0143\n",
      "Epoch 2/25\n",
      "320/320 [==============================] - 28s 87ms/step - loss: 0.0075\n",
      "Epoch 3/25\n",
      "320/320 [==============================] - 29s 91ms/step - loss: 0.0065\n",
      "Epoch 4/25\n",
      "320/320 [==============================] - 29s 91ms/step - loss: 0.0062\n",
      "Epoch 5/25\n",
      "320/320 [==============================] - 29s 92ms/step - loss: 0.0059\n",
      "Epoch 6/25\n",
      "320/320 [==============================] - 29s 90ms/step - loss: 0.0058\n",
      "Epoch 7/25\n",
      "320/320 [==============================] - 29s 90ms/step - loss: 0.0056\n",
      "Epoch 8/25\n",
      "320/320 [==============================] - 29s 91ms/step - loss: 0.0056\n",
      "Epoch 9/25\n",
      "320/320 [==============================] - 30s 93ms/step - loss: 0.0055\n",
      "Epoch 10/25\n",
      "320/320 [==============================] - 29s 90ms/step - loss: 0.0055\n",
      "Epoch 11/25\n",
      "320/320 [==============================] - 29s 91ms/step - loss: 0.0054\n",
      "Epoch 12/25\n",
      "320/320 [==============================] - 29s 91ms/step - loss: 0.0054\n",
      "Epoch 13/25\n",
      "320/320 [==============================] - 29s 90ms/step - loss: 0.0053\n",
      "Epoch 14/25\n",
      "320/320 [==============================] - 29s 90ms/step - loss: 0.0053\n",
      "Epoch 15/25\n",
      "320/320 [==============================] - 29s 90ms/step - loss: 0.0053\n",
      "Epoch 16/25\n",
      "320/320 [==============================] - 31s 95ms/step - loss: 0.0053\n",
      "Epoch 17/25\n",
      "320/320 [==============================] - 30s 94ms/step - loss: 0.0053\n",
      "Epoch 18/25\n",
      "320/320 [==============================] - 30s 94ms/step - loss: 0.0052\n",
      "Epoch 19/25\n",
      "320/320 [==============================] - 30s 94ms/step - loss: 0.0052\n",
      "Epoch 20/25\n",
      "320/320 [==============================] - 30s 93ms/step - loss: 0.0052\n",
      "Epoch 21/25\n",
      "320/320 [==============================] - 30s 92ms/step - loss: 0.0053\n",
      "Epoch 22/25\n",
      "320/320 [==============================] - 30s 92ms/step - loss: 0.0052\n",
      "Epoch 23/25\n",
      "320/320 [==============================] - 30s 93ms/step - loss: 0.0052\n",
      "Epoch 24/25\n",
      "320/320 [==============================] - 34s 105ms/step - loss: 0.0052\n",
      "Epoch 25/25\n",
      "320/320 [==============================] - 29s 91ms/step - loss: 0.0052\n"
     ]
    },
    {
     "name": "stderr",
     "output_type": "stream",
     "text": [
      "WARNING:absl:Found untraced functions such as lstm_cell_18_layer_call_fn, lstm_cell_18_layer_call_and_return_conditional_losses, lstm_cell_19_layer_call_fn, lstm_cell_19_layer_call_and_return_conditional_losses, lstm_cell_20_layer_call_fn while saving (showing 5 of 6). These functions will not be directly callable after loading.\n"
     ]
    },
    {
     "name": "stdout",
     "output_type": "stream",
     "text": [
      "INFO:tensorflow:Assets written to: ./modelsave/model1\\assets\n"
     ]
    },
    {
     "name": "stderr",
     "output_type": "stream",
     "text": [
      "INFO:tensorflow:Assets written to: ./modelsave/model1\\assets\n",
      "WARNING:absl:<keras.layers.recurrent.LSTMCell object at 0x000001B291F4D090> has the same name 'LSTMCell' as a built-in Keras object. Consider renaming <class 'keras.layers.recurrent.LSTMCell'> to avoid naming conflicts when loading with `tf.keras.models.load_model`. If renaming is not possible, pass the object in the `custom_objects` parameter of the load function.\n",
      "WARNING:absl:<keras.layers.recurrent.LSTMCell object at 0x000001B295F889A0> has the same name 'LSTMCell' as a built-in Keras object. Consider renaming <class 'keras.layers.recurrent.LSTMCell'> to avoid naming conflicts when loading with `tf.keras.models.load_model`. If renaming is not possible, pass the object in the `custom_objects` parameter of the load function.\n",
      "WARNING:absl:<keras.layers.recurrent.LSTMCell object at 0x000001B2960034F0> has the same name 'LSTMCell' as a built-in Keras object. Consider renaming <class 'keras.layers.recurrent.LSTMCell'> to avoid naming conflicts when loading with `tf.keras.models.load_model`. If renaming is not possible, pass the object in the `custom_objects` parameter of the load function.\n"
     ]
    }
   ],
   "source": [
    "try:    \n",
    "    from tensorflow import keras\n",
    "    model = keras.models.load_model('./modelsave/model1/')\n",
    "except:\n",
    "    print('loading model has been unsuccesful, training model will start automaticly)')\n",
    "    model = Sequential()\n",
    "\n",
    "    model.add(LSTM(units=50, return_sequences=True, input_shape=(x_train.shape[1], 1)))\n",
    "    model.add(Dropout(0.2))\n",
    "    model.add(LSTM(units=50, return_sequences=True))\n",
    "    model.add(Dropout(0.2))\n",
    "    model.add(LSTM(units=50))\n",
    "    model.add(Dropout(0.2))\n",
    "    model.add(Dense(units=future_days))\n",
    "\n",
    "    model.compile(optimizer='adam', loss='mean_squared_error')\n",
    "    model.fit(x_train, y_train, epochs=25, batch_size=32)\n",
    "\n",
    "    model.save('./modelsave/model1')"
   ]
  },
  {
   "cell_type": "markdown",
   "id": "bb0be607",
   "metadata": {},
   "source": [
    "# Testing"
   ]
  },
  {
   "cell_type": "code",
   "execution_count": 27,
   "id": "7d115da3",
   "metadata": {},
   "outputs": [],
   "source": [
    "test_start = dt.datetime(2020,1,1)\n",
    "test_end = dt.datetime.now()\n",
    "\n",
    "test_crypto_currency = 'BTC'\n",
    "test_data = web.DataReader(f'{test_crypto_currency}-{against_currency}', 'yahoo', test_start, test_end)\n",
    "\n",
    "np_test_data = np.array(test_data['Close'].values.reshape(-1,1))\n",
    "scaled_test_data = scaler.fit_transform(test_data['Close'].values.reshape(-1,1))"
   ]
  },
  {
   "cell_type": "code",
   "execution_count": 28,
   "id": "bd1cdfe6",
   "metadata": {},
   "outputs": [],
   "source": [
    "x_test, y_test = [], []\n",
    "\n",
    "for x in range(prediction_days, len(scaled_test_data)-future_days):\n",
    "    x_test.append(scaled_test_data[x-prediction_days:x, 0])\n",
    "    y_test.append(np_test_data[x-future_days:x, 0])"
   ]
  },
  {
   "cell_type": "code",
   "execution_count": 29,
   "id": "46ed5d6f",
   "metadata": {},
   "outputs": [],
   "source": [
    "x_test, y_test = np.array(x_test), np.array(y_test)"
   ]
  },
  {
   "cell_type": "code",
   "execution_count": 30,
   "id": "759d163d",
   "metadata": {},
   "outputs": [],
   "source": [
    "x_test = np.reshape(x_test, (x_test.shape[0], x_test.shape[1], 1))"
   ]
  },
  {
   "cell_type": "code",
   "execution_count": 31,
   "id": "0a5849f4",
   "metadata": {},
   "outputs": [],
   "source": [
    "prediction = model.predict(x_test)\n",
    "prediction_price = scaler.inverse_transform(prediction)\n",
    "\n",
    "score = abs(prediction_price-y_test)"
   ]
  },
  {
   "cell_type": "code",
   "execution_count": 32,
   "id": "afddb830",
   "metadata": {},
   "outputs": [
    {
     "data": {
      "image/png": "[encoded data removed]",
      "text/plain": [
       "<Figure size 432x288 with 1 Axes>"
      ]
     },
     "metadata": {
      "needs_background": "light"
     },
     "output_type": "display_data"
    }
   ],
   "source": [
    "n_day = 250\n",
    "plt.plot(prediction_price[n_day],label='predicted')\n",
    "plt.plot(y_test[n_day], label='real')\n",
    "plt.title('from testing position: '+str(n_day))\n",
    "plt.legend()\n",
    "plt.show()"
   ]
  },
  {
   "cell_type": "code",
   "execution_count": 33,
   "id": "ca215dfc",
   "metadata": {},
   "outputs": [
    {
     "name": "stdout",
     "output_type": "stream",
     "text": [
      "Spearmans correlation: 0.964\n"
     ]
    },
    {
     "data": {
      "image/png": "[encoded data removed]",
      "text/plain": [
       "<Figure size 432x288 with 1 Axes>"
      ]
     },
     "metadata": {
      "needs_background": "light"
     },
     "output_type": "display_data"
    }
   ],
   "source": [
    "plt.scatter(prediction_price[n_day], y_test[n_day])\n",
    "from scipy.stats import spearmanr\n",
    "corr, _ = spearmanr(prediction_price[n_day], y_test[n_day])\n",
    "print('Spearmans correlation: %.3f' % corr)"
   ]
  },
  {
   "cell_type": "code",
   "execution_count": 34,
   "id": "8450a285",
   "metadata": {},
   "outputs": [],
   "source": [
    "correlation = []\n",
    "for i in range(prediction_price.shape[0]):\n",
    "    corr, _ = spearmanr(prediction_price[i], y_test[i])\n",
    "    correlation.append(corr)"
   ]
  },
  {
   "cell_type": "code",
   "execution_count": 35,
   "id": "c110899d",
   "metadata": {},
   "outputs": [
    {
     "data": {
      "text/plain": [
       "[<matplotlib.lines.Line2D at 0x1b2fc739150>]"
      ]
     },
     "execution_count": 35,
     "metadata": {},
     "output_type": "execute_result"
    },
    {
     "data": {
      "image/png": "[encoded data removed]",
      "text/plain": [
       "<Figure size 432x288 with 1 Axes>"
      ]
     },
     "metadata": {
      "needs_background": "light"
     },
     "output_type": "display_data"
    }
   ],
   "source": [
    "plt.plot(correlation)"
   ]
  },
  {
   "cell_type": "code",
   "execution_count": 36,
   "id": "0c4f1a9b",
   "metadata": {},
   "outputs": [
    {
     "data": {
      "text/plain": [
       "0.08429135151126263"
      ]
     },
     "execution_count": 36,
     "metadata": {},
     "output_type": "execute_result"
    }
   ],
   "source": [
    "np.mean(correlation)"
   ]
  },
  {
   "cell_type": "code",
   "execution_count": 37,
   "id": "f69dcb05",
   "metadata": {},
   "outputs": [
    {
     "data": {
      "text/plain": [
       "(array([ 85.,  65.,  74.,  47.,  39.,  49.,  72.,  85.,  85., 116.]),\n",
       " array([-9.79532814e-01, -7.83759733e-01, -5.87986652e-01, -3.92213571e-01,\n",
       "        -1.96440489e-01, -6.67408231e-04,  1.95105673e-01,  3.90878754e-01,\n",
       "         5.86651835e-01,  7.82424917e-01,  9.78197998e-01]),\n",
       " <BarContainer object of 10 artists>)"
      ]
     },
     "execution_count": 37,
     "metadata": {},
     "output_type": "execute_result"
    },
    {
     "data": {
      "image/png": "[encoded data removed]",
      "text/plain": [
       "<Figure size 432x288 with 1 Axes>"
      ]
     },
     "metadata": {
      "needs_background": "light"
     },
     "output_type": "display_data"
    }
   ],
   "source": [
    "plt.hist(correlation)"
   ]
  },
  {
   "cell_type": "code",
   "execution_count": null,
   "id": "e5dc2c23",
   "metadata": {},
   "outputs": [],
   "source": []
  }
 ],
 "metadata": {
  "kernelspec": {
   "display_name": "Python 3 (ipykernel)",
   "language": "python",
   "name": "python3"
  },
  "language_info": {
   "codemirror_mode": {
    "name": "ipython",
    "version": 3
   },
   "file_extension": ".py",
   "mimetype": "text/x-python",
   "name": "python",
   "nbconvert_exporter": "python",
   "pygments_lexer": "ipython3",
   "version": "3.10.2"
  }
 },
 "nbformat": 4,
 "nbformat_minor": 5
}
