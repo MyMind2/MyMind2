{
 "cells": [
  {
   "cell_type": "code",
   "execution_count": 45,
   "id": "2d880a50-9e50-40a8-b9f8-e4f150cf4328",
   "metadata": {},
   "outputs": [],
   "source": [
    "import numpy as np\n",
    "from sklearn import linear_model\n",
    "import sklearn.metrics as sm\n",
    "import matplotlib.pyplot as plt\n",
    "from sklearn import preprocessing"
   ]
  },
  {
   "cell_type": "code",
   "execution_count": 46,
   "id": "ef2b4571-1ce3-4f17-aa31-43ece4e99678",
   "metadata": {},
   "outputs": [
    {
     "name": "stdout",
     "output_type": "stream",
     "text": [
      "[[0.48648649 0.58252427 0.99122807]\n",
      " [0.         1.         0.81578947]\n",
      " [0.27027027 0.         1.        ]\n",
      " [1.         0.99029126 0.        ]]\n"
     ]
    }
   ],
   "source": [
    "input_ = np.array([[2.1, -1.9, 5.5],\n",
    "                      [-1.5, 2.4, 3.5],\n",
    "                      [0.5, -7.9, 5.6],\n",
    "                      [5.9, 2.3, -5.8]])\n",
    "input_.reshape(-1, 1)\n",
    "data_scaler_minmax = preprocessing.MinMaxScaler(feature_range=(0,1))\n",
    "data_scaled_minmax = data_scaler_minmax.fit_transform(input_)\n",
    "input_data = (data_scaled_minmax)\n",
    "print (input_data)"
   ]
  },
  {
   "cell_type": "code",
   "execution_count": 47,
   "id": "9debd17a-3a2a-4000-aab8-dfce4830b782",
   "metadata": {},
   "outputs": [],
   "source": [
    "X, y = input_data, input_data"
   ]
  },
  {
   "cell_type": "code",
   "execution_count": 48,
   "id": "16072339-089d-401c-beac-b1fc964581ee",
   "metadata": {},
   "outputs": [],
   "source": [
    "num_training = int(0.6 * len(X))\n",
    "training_samples = int(0.6 * len(X))\n",
    "testing_samples = len(X) - num_training\n",
    "\n",
    "X_train, y_train = np.array(X[:training_samples]), np.array(y[:training_samples])\n",
    "X_train, y_train = X_train.reshape(1,-1), y_train.reshape(1,-1)\n",
    "\n",
    "X_test, y_test = np.array(X[training_samples:]), np.array(y[training_samples:])\n",
    "X_test, y_test = X_test.reshape(1,-1), y_test.reshape(1,-1)"
   ]
  },
  {
   "cell_type": "code",
   "execution_count": 49,
   "id": "42841a91-8eeb-4f31-806f-9235f4414cd7",
   "metadata": {},
   "outputs": [],
   "source": [
    "reg_linear = linear_model.LinearRegression()"
   ]
  },
  {
   "cell_type": "code",
   "execution_count": 50,
   "id": "515a9515-6465-453c-aa69-2730055e5e8d",
   "metadata": {},
   "outputs": [
    {
     "data": {
      "text/plain": [
       "LinearRegression()"
      ]
     },
     "execution_count": 50,
     "metadata": {},
     "output_type": "execute_result"
    }
   ],
   "source": [
    "reg_linear.fit(X_train, y_train)\n"
   ]
  },
  {
   "cell_type": "code",
   "execution_count": 52,
   "id": "5ca5c540-e4d8-44cc-8eea-280cabd3e43e",
   "metadata": {},
   "outputs": [],
   "source": [
    "y_test_pred = reg_linear.predict(X_test)"
   ]
  },
  {
   "cell_type": "code",
   "execution_count": 53,
   "id": "51133ea2-b321-4828-8ae5-94d34418154b",
   "metadata": {},
   "outputs": [],
   "source": [
    "y_test_pred = reg_linear.predict(X_test)"
   ]
  },
  {
   "cell_type": "code",
   "execution_count": null,
   "id": "c65d6428-eb0a-4e5a-a308-5e12ffefdda6",
   "metadata": {},
   "outputs": [],
   "source": []
  }
 ],
 "metadata": {
  "kernelspec": {
   "display_name": "Python 3 (ipykernel)",
   "language": "python",
   "name": "python3"
  },
  "language_info": {
   "codemirror_mode": {
    "name": "ipython",
    "version": 3
   },
   "file_extension": ".py",
   "mimetype": "text/x-python",
   "name": "python",
   "nbconvert_exporter": "python",
   "pygments_lexer": "ipython3",
   "version": "3.10.2"
  }
 },
 "nbformat": 4,
 "nbformat_minor": 5
}
